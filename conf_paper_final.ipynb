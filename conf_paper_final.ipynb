{
 "cells": [
  {
   "cell_type": "code",
   "execution_count": 1,
   "metadata": {},
   "outputs": [
    {
     "name": "stdout",
     "output_type": "stream",
     "text": [
      "WARNING:tensorflow:From C:\\Users\\msamad\\AppData\\Roaming\\Python\\Python37\\site-packages\\tensorflow\\python\\compat\\v2_compat.py:96: disable_resource_variables (from tensorflow.python.ops.variable_scope) is deprecated and will be removed in a future version.\n",
      "Instructions for updating:\n",
      "non-resource variables are not supported in the long term\n"
     ]
    }
   ],
   "source": [
    "import os\n",
    "import pickle\n",
    "import numpy as np\n",
    "import pandas as pd\n",
    "import data_processing as dp\n",
    "import maskingPackage as mPack  ## this is masking with freezing\n",
    "import matplotlib.pyplot as plt\n",
    "\n",
    "\n",
    "\n"
   ]
  },
  {
   "cell_type": "code",
   "execution_count": 2,
   "metadata": {},
   "outputs": [
    {
     "name": "stdout",
     "output_type": "stream",
     "text": [
      "['ad_data', 'arrhythmia', 'dermatology', 'Epileptic_Seizure', 'gene_seq', 'heart_failure', 'mice_data', 'swarm_aligned']\n"
     ]
    }
   ],
   "source": [
    "listDB = os.listdir(\"UCI_REPO/Pickle/\")\n",
    "#listDB.remove('.DS_Store')\n",
    "listDB.remove('Other')\n",
    "print(listDB)\n",
    "\n"
   ]
  },
  {
   "cell_type": "code",
   "execution_count": 3,
   "metadata": {},
   "outputs": [
    {
     "name": "stdout",
     "output_type": "stream",
     "text": [
      "Data set name:  heart_failure\n",
      "Shape of data set (299, 12)\n",
      "Encoding units: 6\n",
      "relu relu\n",
      "Masking type:  Low\n",
      "WARNING:tensorflow:From C:\\Users\\msamad\\AppData\\Roaming\\Python\\Python37\\site-packages\\tensorflow\\python\\training\\rmsprop.py:123: calling Ones.__init__ (from tensorflow.python.ops.init_ops) with dtype is deprecated and will be removed in a future version.\n",
      "Instructions for updating:\n",
      "Call initializer instance with the dtype argument instead of passing it to the constructor\n",
      "Data set name:  dermatology\n",
      "Shape of data set (358, 34)\n",
      "Encoding units: 17\n",
      "sigmoid sigmoid\n",
      "Masking type:  Low\n"
     ]
    }
   ],
   "source": [
    "maskType = ['Low']#, 'Bound', 'Neg']\n",
    "\n",
    "dataDict= {\"DBname\": [],\"mtype\": [], \"no_mask_max_NLL\": [],\"mask_max_NLL\": [], \"limit_max_NLL\": [], \"perc_wt_mask\":[],\"perc_wt_limit\":[]}\n",
    "    \n",
    "listDB = ['heart_failure','dermatology']\n",
    "\n",
    "for dbName in listDB:#['Epileptic_Seizure']:# listDB[5]:\n",
    "    \n",
    "    print ('Data set name: ', dbName)\n",
    "    \n",
    "    input_data = dp.readUCRdata(dbName)\n",
    "    \n",
    "     # Encoding size is 10% of input dimension \n",
    "    n_enco = int (input_data.shape[1]*0.50)\n",
    "    \n",
    "    n_enco = min (n_enco, 100)\n",
    "    \n",
    "    print ('Shape of data set', input_data.shape)\n",
    "    print ('Encoding units:', n_enco)\n",
    "    \n",
    "    \n",
    "     ## We are feeding the data into Auto encoder.\n",
    "    \n",
    "    en_act, de_act = mPack.activationMap (dbName)\n",
    "    \n",
    "    print (en_act, de_act)\n",
    "    \n",
    "    for mtype in maskType:\n",
    "        \n",
    "        dataDict['DBname'].append (dbName)\n",
    "        dataDict['mtype'].append (mtype)\n",
    "    \n",
    "        \n",
    "        print ('Masking type: ', mtype)\n",
    "        \n",
    "        loss_1,perc_weight_1,_ = mPack.singleLayer(data= input_data, en_act=en_act, de_act=de_act, op = \"rms\" , n_enco=n_enco, epoch=1000 , Mask= True, Limit=False, mtype =mtype)\n",
    "       \n",
    "        loss_2,perc_weight_2,_ = mPack.singleLayer(data= input_data, en_act=en_act, de_act=de_act, op = \"rms\" , n_enco=n_enco, epoch=1000 , Mask= True, Limit=True, mtype =mtype)\n",
    "        \n",
    "        loss_3,_,_ = mPack.singleLayer(data= input_data, en_act=en_act, de_act=de_act, op = \"rms\" , n_enco=n_enco, epoch=1000 , Mask= False, mtype = mtype)\n",
    "        \n",
    "        fileLimit = dbName + mtype + 'limit' \n",
    "        fileMask = dbName + mtype + 'Mask'\n",
    "        \n",
    "        mPack.plotLossCurve (loss_1, loss_3, fileMask)\n",
    "        mPack.plotLossCurve (loss_2, loss_3, fileLimit)\n",
    "        \n",
    "        \n",
    "        mPack.plotPercMask (perc_weight_1, fileMask)\n",
    "        \n",
    "        dataDict['no_mask_max_NLL'].append (max(-np.log(loss_3)))\n",
    "        dataDict['mask_max_NLL'].append (max(-np.log(loss_1)))\n",
    "        dataDict['limit_max_NLL'].append (max(-np.log(loss_2)))\n",
    "        dataDict['perc_wt_mask'].append( max(perc_weight_1))\n",
    "        dataDict['perc_wt_limit'].append( max(perc_weight_2))\n",
    "        \n",
    "\n"
   ]
  },
  {
   "cell_type": "code",
   "execution_count": null,
   "metadata": {
    "scrolled": true
   },
   "outputs": [],
   "source": [
    "print (dataDict)\n",
    "\n",
    "df = pd.DataFrame(dataDict)\n",
    "\n",
    "df"
   ]
  },
  {
   "cell_type": "code",
   "execution_count": null,
   "metadata": {
    "scrolled": true
   },
   "outputs": [],
   "source": [
    "actType = ['relu', 'sigmoid']\n",
    "\n",
    "dataDict= {\"DBname\": [],\"Shape\":[], \"act_en\":[], \"act_de\":[],\"NLL\":[]}\n",
    "\n",
    "for dbName in listDB:\n",
    "    \n",
    "    print ('Data set name: ', dbName)\n",
    "    \n",
    "    input_data = dp.readUCRdata(dbName)\n",
    "    \n",
    "    # Encoding size is 10% of input dimension \n",
    "    n_enco = int (input_data.shape[1]*0.50)\n",
    "    \n",
    "    n_enco = min (n_enco, 100)\n",
    "    \n",
    "    print ('Shape of data set', input_data.shape)\n",
    "    print ('Encoding units:', n_enco)\n",
    "    \n",
    "    \n",
    "    ## We are feeding the data into Auto encoder.\n",
    "    \n",
    "    for act_1 in actType:\n",
    "        \n",
    "        for act_2 in actType:\n",
    "            \n",
    "            \n",
    "            dataDict[\"DBname\"].append (dbName)\n",
    "            \n",
    "            dataDict[\"act_en\"].append (act_1)\n",
    "            \n",
    "            dataDict[\"act_de\"].append (act_2)\n",
    "            dataDict[\"Shape\"].append (input_data.shape)\n",
    "            \n",
    "            print (act_1, act_2)\n",
    "    \n",
    "        \n",
    "            loss_3,_,_ = mPack.singleLayer(data= input_data, en_act=act_1, de_act=act_2, op = \"rms\" , n_enco=n_enco, epoch=500 , Mask= False)\n",
    "            \n",
    "            print (max(-np.log(loss_3)))\n",
    "            \n",
    "            dataDict[\"NLL\"].append (max(-np.log(loss_3)))\n",
    "            \n",
    "        \n",
    "    \n"
   ]
  },
  {
   "cell_type": "code",
   "execution_count": null,
   "metadata": {},
   "outputs": [],
   "source": [
    "#print (dataDict)\n",
    "#df = pd.DataFrame(dataDict)\n",
    "\n",
    "#df\n",
    "df.to_excel(\"output.xlsx\")  \n"
   ]
  },
  {
   "cell_type": "code",
   "execution_count": null,
   "metadata": {},
   "outputs": [],
   "source": [
    "print (min (50, 10))\n",
    "#!pip install python-docx\n",
    "\n",
    "#import docx\n",
    "#import pandas as pd\n",
    "\n",
    "# i am not sure how you are getting your data, but you said it is a\n",
    "# pandas data frame\n",
    "#df = pd.DataFrame(data)\n",
    "\n",
    "# open an existing document\n",
    "#doc = docx.Document('./test.docx')\n",
    "\n",
    "W = np.random.random((3, 3))\n",
    "\n",
    "\n",
    "d, m = np.histogram (np.ravel(W), bins= 100)\n",
    "\n",
    "#print (d)\n",
    "\n",
    "#print (m)\n",
    "print (np.mean(W) - 3*np.std(W))\n",
    "print (np.mean(W) + 3*np.std(W))\n",
    "\n",
    "\n",
    "    \n",
    "lower_limit = np.mean(W) - 3*np.std(W)\n",
    "upper_limit = np.mean(W) + 3*np.std(W)\n",
    "\n",
    "B1 = W > upper_limit\n",
    "B2 = W < lower_limit\n",
    "B = np.logical_or(B1, B2)\n",
    "B = np.logical_not(B)\n",
    " \n",
    "    \n",
    "        \n",
    "\n",
    "print (W.max())\n",
    "print (W)\n",
    "print (np.exp(W))"
   ]
  }
 ],
 "metadata": {
  "kernelspec": {
   "display_name": "Python 3",
   "language": "python",
   "name": "python3"
  },
  "language_info": {
   "codemirror_mode": {
    "name": "ipython",
    "version": 3
   },
   "file_extension": ".py",
   "mimetype": "text/x-python",
   "name": "python",
   "nbconvert_exporter": "python",
   "pygments_lexer": "ipython3",
   "version": "3.7.7"
  }
 },
 "nbformat": 4,
 "nbformat_minor": 4
}
